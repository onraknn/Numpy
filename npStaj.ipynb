{
  "nbformat": 4,
  "nbformat_minor": 0,
  "metadata": {
    "colab": {
      "provenance": []
    },
    "kernelspec": {
      "name": "python3",
      "display_name": "Python 3"
    },
    "language_info": {
      "name": "python"
    }
  },
  "cells": [
    {
      "cell_type": "code",
      "execution_count": null,
      "metadata": {
        "id": "0u6Fucb8_l5o"
      },
      "outputs": [],
      "source": [
        "import numpy as np"
      ]
    },
    {
      "cell_type": "code",
      "source": [
        "a = np.array([1,2,3,4])\n",
        "b = np.array([5.2,6,7,8],dtype = \"float\")\n",
        "c = a+b\n",
        "c"
      ],
      "metadata": {
        "id": "xxavIBX2XFAO"
      },
      "execution_count": null,
      "outputs": []
    },
    {
      "cell_type": "code",
      "source": [
        "np.zeros(9,dtype = \"int\").reshape(3,3)"
      ],
      "metadata": {
        "id": "shbcSZFOZolM"
      },
      "execution_count": null,
      "outputs": []
    },
    {
      "cell_type": "code",
      "source": [
        "np.ones((3,5),dtype = \"int\")"
      ],
      "metadata": {
        "id": "RpLycADKZonk"
      },
      "execution_count": null,
      "outputs": []
    },
    {
      "cell_type": "code",
      "source": [
        "np.full((3,5),6)"
      ],
      "metadata": {
        "id": "eIaW4Pr9ZoqV"
      },
      "execution_count": null,
      "outputs": []
    },
    {
      "cell_type": "code",
      "source": [
        "np.full(3,10)"
      ],
      "metadata": {
        "id": "tQIBjma8ZotM"
      },
      "execution_count": null,
      "outputs": []
    },
    {
      "cell_type": "code",
      "source": [
        "np.arange(1,10).reshape(3,3)"
      ],
      "metadata": {
        "id": "KHYzurPJcH1N"
      },
      "execution_count": null,
      "outputs": []
    },
    {
      "cell_type": "code",
      "source": [
        "np.linspace(0,1,7)"
      ],
      "metadata": {
        "id": "vKvVPGxFcH3k"
      },
      "execution_count": null,
      "outputs": []
    },
    {
      "cell_type": "code",
      "source": [
        "np.random.normal(1,10,(3,3))"
      ],
      "metadata": {
        "id": "tImZM01WcH6M"
      },
      "execution_count": null,
      "outputs": []
    },
    {
      "cell_type": "code",
      "source": [
        "np.random.randint(1,10,(2,2))"
      ],
      "metadata": {
        "id": "Y0ztmudjcH88"
      },
      "execution_count": null,
      "outputs": []
    },
    {
      "cell_type": "code",
      "source": [
        "a = np.random.randint(1,10,size = (3,3))\n",
        "a"
      ],
      "metadata": {
        "id": "R-z-PkufcIAB"
      },
      "execution_count": null,
      "outputs": []
    },
    {
      "cell_type": "code",
      "source": [
        "a.ndim"
      ],
      "metadata": {
        "id": "WcqXOf7tdvyW"
      },
      "execution_count": null,
      "outputs": []
    },
    {
      "cell_type": "code",
      "source": [
        "a.size"
      ],
      "metadata": {
        "id": "Ast7fIfNdv0t"
      },
      "execution_count": null,
      "outputs": []
    },
    {
      "cell_type": "code",
      "source": [
        "a.shape"
      ],
      "metadata": {
        "id": "yYnoULxKdv3c"
      },
      "execution_count": null,
      "outputs": []
    },
    {
      "cell_type": "code",
      "source": [
        "a = np.arange(1,10).reshape(3,3)\n",
        "a"
      ],
      "metadata": {
        "id": "GNOawg8Tdv8p"
      },
      "execution_count": null,
      "outputs": []
    },
    {
      "cell_type": "code",
      "source": [
        "a = np.arange(1,5)\n",
        "b = np.arange(5,9)\n",
        "c = np.concatenate([a,b])\n",
        "c"
      ],
      "metadata": {
        "id": "kcNdJJMbdv6A"
      },
      "execution_count": null,
      "outputs": []
    },
    {
      "cell_type": "code",
      "source": [
        "a = np.arange(1,5).reshape(2,2)\n",
        "np.concatenate([a,a],axis=1)\n"
      ],
      "metadata": {
        "id": "1rgdHOcFdwEF"
      },
      "execution_count": null,
      "outputs": []
    },
    {
      "cell_type": "code",
      "source": [
        "a,b,c = np.split(c,[2,4])"
      ],
      "metadata": {
        "id": "QwB57IcZGSuk"
      },
      "execution_count": null,
      "outputs": []
    },
    {
      "cell_type": "code",
      "source": [
        "a"
      ],
      "metadata": {
        "id": "_FplU5q6GSw7"
      },
      "execution_count": null,
      "outputs": []
    },
    {
      "cell_type": "code",
      "source": [
        "b"
      ],
      "metadata": {
        "id": "cBbAXCO5GSzi"
      },
      "execution_count": null,
      "outputs": []
    },
    {
      "cell_type": "code",
      "source": [
        "c.reshape(2,2)"
      ],
      "metadata": {
        "id": "gKQvW9KmGS2c"
      },
      "execution_count": null,
      "outputs": []
    },
    {
      "cell_type": "code",
      "source": [
        "a = np.arange(1,10).reshape(3,3)\n",
        "a"
      ],
      "metadata": {
        "id": "SpNvxTxtGS55"
      },
      "execution_count": null,
      "outputs": []
    },
    {
      "cell_type": "code",
      "source": [
        "np.vsplit(a,[2])"
      ],
      "metadata": {
        "id": "JR8BhmX6dwGw"
      },
      "execution_count": null,
      "outputs": []
    },
    {
      "cell_type": "code",
      "source": [
        "np.hsplit(a,[2])"
      ],
      "metadata": {
        "id": "Fw8Y3gLxX1Eh"
      },
      "execution_count": null,
      "outputs": []
    },
    {
      "cell_type": "code",
      "source": [
        "a = np.random.randint(1,10,5)\n",
        "a"
      ],
      "metadata": {
        "id": "Lh4ZdiAkX1G8"
      },
      "execution_count": null,
      "outputs": []
    },
    {
      "cell_type": "code",
      "source": [
        "a[-2]"
      ],
      "metadata": {
        "id": "ARllYdU0X1Jb"
      },
      "execution_count": null,
      "outputs": []
    },
    {
      "cell_type": "code",
      "source": [
        "a = np.random.randint(1,10,size=(4,4))\n",
        "a"
      ],
      "metadata": {
        "id": "ArhY3U8oX1Lr"
      },
      "execution_count": null,
      "outputs": []
    },
    {
      "cell_type": "code",
      "source": [
        "a"
      ],
      "metadata": {
        "id": "av0JQxIcX1OI"
      },
      "execution_count": null,
      "outputs": []
    },
    {
      "cell_type": "code",
      "source": [
        "b = a[1:3,:].copy()\n",
        "b[0,2] = 25\n",
        "b\n",
        "a"
      ],
      "metadata": {
        "colab": {
          "base_uri": "https://localhost:8080/"
        },
        "id": "Aydq6ZvFDZlu",
        "outputId": "67bf774f-b17d-41f0-8484-f45984dd447c"
      },
      "execution_count": null,
      "outputs": [
        {
          "output_type": "execute_result",
          "data": {
            "text/plain": [
              "array([[8, 8, 6, 6],\n",
              "       [1, 3, 8, 8],\n",
              "       [1, 1, 8, 6],\n",
              "       [5, 7, 4, 2]])"
            ]
          },
          "metadata": {},
          "execution_count": 117
        }
      ]
    },
    {
      "cell_type": "code",
      "source": [
        "b = a[:,0]\n",
        "c = a[:,1]\n",
        "z = np.concatenate([b,c]).reshape(len(z),1)\n",
        "z"
      ],
      "metadata": {
        "colab": {
          "base_uri": "https://localhost:8080/"
        },
        "id": "MWR1a1DQX1Qx",
        "outputId": "e585dd54-86d3-4808-ce63-4e189dabf2e4"
      },
      "execution_count": null,
      "outputs": [
        {
          "output_type": "execute_result",
          "data": {
            "text/plain": [
              "array([[8],\n",
              "       [1],\n",
              "       [1],\n",
              "       [5],\n",
              "       [8],\n",
              "       [3],\n",
              "       [1],\n",
              "       [7]])"
            ]
          },
          "metadata": {},
          "execution_count": 108
        }
      ]
    },
    {
      "cell_type": "code",
      "source": [
        "al = [np.arange(2,7,2)]\n",
        "a = np.arange(1,10)\n",
        "a[al]"
      ],
      "metadata": {
        "colab": {
          "base_uri": "https://localhost:8080/"
        },
        "id": "9B8kuS9cEZ0M",
        "outputId": "a84b98bb-5c9d-48ad-cbea-4ce0e382f1ca"
      },
      "execution_count": null,
      "outputs": [
        {
          "output_type": "execute_result",
          "data": {
            "text/plain": [
              "array([[3, 5, 7]])"
            ]
          },
          "metadata": {},
          "execution_count": 129
        }
      ]
    },
    {
      "cell_type": "code",
      "source": [
        "a = np.arange(1,10).reshape(3,3)\n",
        "a\n"
      ],
      "metadata": {
        "colab": {
          "base_uri": "https://localhost:8080/"
        },
        "id": "PidBxMZgX1TS",
        "outputId": "d030bc82-ca7d-4d2f-a58e-9293e2e9e057"
      },
      "execution_count": null,
      "outputs": [
        {
          "output_type": "execute_result",
          "data": {
            "text/plain": [
              "array([[1, 2, 3],\n",
              "       [4, 5, 6],\n",
              "       [7, 8, 9]])"
            ]
          },
          "metadata": {},
          "execution_count": 132
        }
      ]
    },
    {
      "cell_type": "code",
      "source": [
        "a = np.arange(10)\n",
        "a[a<2]"
      ],
      "metadata": {
        "colab": {
          "base_uri": "https://localhost:8080/"
        },
        "id": "5EdA1_lPEP7A",
        "outputId": "fb290249-769e-4c74-ff79-2fa2c0f0c24b"
      },
      "execution_count": null,
      "outputs": [
        {
          "output_type": "execute_result",
          "data": {
            "text/plain": [
              "array([0, 1])"
            ]
          },
          "metadata": {},
          "execution_count": 147
        }
      ]
    },
    {
      "cell_type": "code",
      "source": [
        "a<3"
      ],
      "metadata": {
        "colab": {
          "base_uri": "https://localhost:8080/"
        },
        "id": "CgmxFNhCEP9l",
        "outputId": "6d1c361e-fbd8-4804-e5d6-b170167cf3d4"
      },
      "execution_count": null,
      "outputs": [
        {
          "output_type": "execute_result",
          "data": {
            "text/plain": [
              "array([ True,  True,  True, False, False, False, False, False, False,\n",
              "       False])"
            ]
          },
          "metadata": {},
          "execution_count": 148
        }
      ]
    },
    {
      "cell_type": "code",
      "source": [
        "np.zeros((2,2,2,2))"
      ],
      "metadata": {
        "colab": {
          "base_uri": "https://localhost:8080/"
        },
        "id": "1LJ0wxxEEQAU",
        "outputId": "f588da89-4bfc-4a90-8d89-8054f7ca834a"
      },
      "execution_count": null,
      "outputs": [
        {
          "output_type": "execute_result",
          "data": {
            "text/plain": [
              "array([[[[0., 0.],\n",
              "         [0., 0.]],\n",
              "\n",
              "        [[0., 0.],\n",
              "         [0., 0.]]],\n",
              "\n",
              "\n",
              "       [[[0., 0.],\n",
              "         [0., 0.]],\n",
              "\n",
              "        [[0., 0.],\n",
              "         [0., 0.]]]])"
            ]
          },
          "metadata": {},
          "execution_count": 155
        }
      ]
    },
    {
      "cell_type": "code",
      "source": [
        "a = np.arange(3)\n",
        "np.concatenate([a,a,a]).reshape(3,3)"
      ],
      "metadata": {
        "colab": {
          "base_uri": "https://localhost:8080/"
        },
        "id": "ZfW7-ymVEQDB",
        "outputId": "28c9d3cc-dfc8-4401-820c-f2da860facb4"
      },
      "execution_count": null,
      "outputs": [
        {
          "output_type": "execute_result",
          "data": {
            "text/plain": [
              "array([[0, 1, 2],\n",
              "       [0, 1, 2],\n",
              "       [0, 1, 2]])"
            ]
          },
          "metadata": {},
          "execution_count": 163
        }
      ]
    },
    {
      "cell_type": "code",
      "source": [
        "a = np.ones((5,5),dtype=int)\n",
        "a[1:4,1:4] = 0\n",
        "a[2,2] = 9\n",
        "a"
      ],
      "metadata": {
        "colab": {
          "base_uri": "https://localhost:8080/"
        },
        "id": "NvqRwMeeEQFy",
        "outputId": "46907c68-4f0a-4a7c-836b-8840d01585a3"
      },
      "execution_count": null,
      "outputs": [
        {
          "output_type": "execute_result",
          "data": {
            "text/plain": [
              "array([[1, 1, 1, 1, 1],\n",
              "       [1, 0, 0, 0, 1],\n",
              "       [1, 0, 9, 0, 1],\n",
              "       [1, 0, 0, 0, 1],\n",
              "       [1, 1, 1, 1, 1]])"
            ]
          },
          "metadata": {},
          "execution_count": 176
        }
      ]
    },
    {
      "cell_type": "code",
      "source": [
        "a = np.array([[1,0,3],\n",
        "              [4,5,2]])"
      ],
      "metadata": {
        "id": "Qo0aPHX6X1Vz"
      },
      "execution_count": null,
      "outputs": []
    },
    {
      "cell_type": "code",
      "source": [
        "np.min(a,axis=0 )"
      ],
      "metadata": {
        "colab": {
          "base_uri": "https://localhost:8080/"
        },
        "id": "8F4ypyaNRMhg",
        "outputId": "128aa71a-05dd-4932-c1e5-8579c7eac4e5"
      },
      "execution_count": null,
      "outputs": [
        {
          "output_type": "execute_result",
          "data": {
            "text/plain": [
              "array([1, 0, 2])"
            ]
          },
          "metadata": {},
          "execution_count": 197
        }
      ]
    },
    {
      "cell_type": "code",
      "source": [
        "a = np.arange(1,31).reshape(6,5)\n",
        "a\n"
      ],
      "metadata": {
        "colab": {
          "base_uri": "https://localhost:8080/"
        },
        "id": "WeE8qHi8RMqo",
        "outputId": "9e020963-3932-4776-9d1e-a21396a4a1c6"
      },
      "execution_count": null,
      "outputs": [
        {
          "output_type": "execute_result",
          "data": {
            "text/plain": [
              "array([[ 1,  2,  3,  4,  5],\n",
              "       [ 6,  7,  8,  9, 10],\n",
              "       [11, 12, 13, 14, 15],\n",
              "       [16, 17, 18, 19, 20],\n",
              "       [21, 22, 23, 24, 25],\n",
              "       [26, 27, 28, 29, 30]])"
            ]
          },
          "metadata": {},
          "execution_count": 225
        }
      ]
    },
    {
      "cell_type": "code",
      "source": [
        "a[[0,1,2,3],[1,2,3,4]]"
      ],
      "metadata": {
        "colab": {
          "base_uri": "https://localhost:8080/"
        },
        "id": "q0aOID_GRMwo",
        "outputId": "6c82a1af-9533-4d39-d801-18c7e68a309e"
      },
      "execution_count": null,
      "outputs": [
        {
          "output_type": "execute_result",
          "data": {
            "text/plain": [
              "array([ 2,  8, 14, 20])"
            ]
          },
          "metadata": {},
          "execution_count": 267
        }
      ]
    },
    {
      "cell_type": "code",
      "source": [
        "a[[0,4,5],3:]"
      ],
      "metadata": {
        "colab": {
          "base_uri": "https://localhost:8080/"
        },
        "id": "NZGUq_P8X1YQ",
        "outputId": "5dd6033f-b81f-4027-f16d-bef68a1a43a8"
      },
      "execution_count": null,
      "outputs": [
        {
          "output_type": "execute_result",
          "data": {
            "text/plain": [
              "array([[ 4,  5],\n",
              "       [24, 25],\n",
              "       [29, 30]])"
            ]
          },
          "metadata": {},
          "execution_count": 269
        }
      ]
    },
    {
      "cell_type": "code",
      "source": [
        "a = np.random.randint(10,size=(10,10))\n",
        "a[:,2:6]\n"
      ],
      "metadata": {
        "colab": {
          "base_uri": "https://localhost:8080/"
        },
        "id": "gEnLZa4K8SCQ",
        "outputId": "87ec1806-7294-4670-acb6-73f2e47b8637"
      },
      "execution_count": null,
      "outputs": [
        {
          "output_type": "execute_result",
          "data": {
            "text/plain": [
              "array([[4, 5, 3, 1],\n",
              "       [9, 9, 7, 0],\n",
              "       [3, 2, 8, 7],\n",
              "       [6, 6, 0, 3],\n",
              "       [6, 1, 7, 5],\n",
              "       [3, 0, 9, 9],\n",
              "       [5, 4, 8, 5],\n",
              "       [2, 7, 7, 5],\n",
              "       [8, 9, 3, 2],\n",
              "       [8, 9, 8, 8]])"
            ]
          },
          "metadata": {},
          "execution_count": 5
        }
      ]
    },
    {
      "cell_type": "code",
      "source": [
        "a"
      ],
      "metadata": {
        "id": "xclcePkV8hVt",
        "outputId": "3452b5f6-1a0c-4255-8a5f-442f118088b7",
        "colab": {
          "base_uri": "https://localhost:8080/"
        }
      },
      "execution_count": null,
      "outputs": [
        {
          "output_type": "execute_result",
          "data": {
            "text/plain": [
              "array([[4, 6, 4, 5, 3, 1, 6, 2, 3, 0],\n",
              "       [4, 1, 9, 9, 7, 0, 0, 9, 7, 7],\n",
              "       [4, 7, 3, 2, 8, 7, 8, 1, 7, 5],\n",
              "       [7, 8, 6, 6, 0, 3, 1, 4, 6, 5],\n",
              "       [3, 8, 6, 1, 7, 5, 6, 2, 1, 8],\n",
              "       [2, 5, 3, 0, 9, 9, 5, 6, 0, 4],\n",
              "       [2, 8, 5, 4, 8, 5, 7, 0, 3, 7],\n",
              "       [6, 0, 2, 7, 7, 5, 0, 2, 6, 2],\n",
              "       [4, 5, 8, 9, 3, 2, 0, 0, 7, 0],\n",
              "       [7, 7, 8, 9, 8, 8, 7, 7, 5, 0]])"
            ]
          },
          "metadata": {},
          "execution_count": 6
        }
      ]
    }
  ]
}